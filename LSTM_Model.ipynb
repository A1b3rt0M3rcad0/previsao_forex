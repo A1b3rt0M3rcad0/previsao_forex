{
 "cells": [
  {
   "cell_type": "markdown",
   "id": "2075dd0e",
   "metadata": {},
   "source": [
    "## Importando libs"
   ]
  },
  {
   "cell_type": "code",
   "execution_count": 25,
   "id": "48a141b2",
   "metadata": {},
   "outputs": [],
   "source": [
    "import pandas as pd\n",
    "import numpy as np\n",
    "import matplotlib.pyplot as plt\n",
    "from tensorflow.keras.layers import Dense, Dropout, LSTM\n",
    "from tensorflow.keras import Sequential\n",
    "from tensorflow.keras import optimizers\n",
    "from tensorflow import nn\n",
    "from sklearn.metrics import mean_absolute_error, mean_squared_error, r2_score, mean_absolute_percentage_error\n",
    "from sklearn.model_selection import train_test_split\n",
    "import random\n",
    "import pickle\n",
    "import config\n",
    "import transform_data as td"
   ]
  },
  {
   "cell_type": "markdown",
   "id": "b90d800a",
   "metadata": {},
   "source": [
    "## Importando dados"
   ]
  },
  {
   "cell_type": "code",
   "execution_count": 26,
   "id": "2bb42e3c",
   "metadata": {},
   "outputs": [],
   "source": [
    "X = pd.read_csv(f'datasets/X_{config.SYMBOL}.csv')\n",
    "y = pd.read_csv(f'datasets/y_{config.SYMBOL}.csv')"
   ]
  },
  {
   "cell_type": "code",
   "execution_count": 27,
   "id": "50a793f1",
   "metadata": {},
   "outputs": [
    {
     "data": {
      "text/html": [
       "<div>\n",
       "<style scoped>\n",
       "    .dataframe tbody tr th:only-of-type {\n",
       "        vertical-align: middle;\n",
       "    }\n",
       "\n",
       "    .dataframe tbody tr th {\n",
       "        vertical-align: top;\n",
       "    }\n",
       "\n",
       "    .dataframe thead th {\n",
       "        text-align: right;\n",
       "    }\n",
       "</style>\n",
       "<table border=\"1\" class=\"dataframe\">\n",
       "  <thead>\n",
       "    <tr style=\"text-align: right;\">\n",
       "      <th></th>\n",
       "      <th>close</th>\n",
       "      <th>close%</th>\n",
       "      <th>mm7</th>\n",
       "      <th>mm14</th>\n",
       "      <th>mm21</th>\n",
       "      <th>mm200</th>\n",
       "    </tr>\n",
       "  </thead>\n",
       "  <tbody>\n",
       "    <tr>\n",
       "      <th>0</th>\n",
       "      <td>1.20996</td>\n",
       "      <td>1.000008</td>\n",
       "      <td>1.210537</td>\n",
       "      <td>1.211562</td>\n",
       "      <td>1.211511</td>\n",
       "      <td>1.213447</td>\n",
       "    </tr>\n",
       "    <tr>\n",
       "      <th>1</th>\n",
       "      <td>1.21055</td>\n",
       "      <td>0.999513</td>\n",
       "      <td>1.210317</td>\n",
       "      <td>1.211447</td>\n",
       "      <td>1.211496</td>\n",
       "      <td>1.213462</td>\n",
       "    </tr>\n",
       "    <tr>\n",
       "      <th>2</th>\n",
       "      <td>1.21044</td>\n",
       "      <td>1.000091</td>\n",
       "      <td>1.210273</td>\n",
       "      <td>1.211299</td>\n",
       "      <td>1.211475</td>\n",
       "      <td>1.213475</td>\n",
       "    </tr>\n",
       "    <tr>\n",
       "      <th>3</th>\n",
       "      <td>1.21171</td>\n",
       "      <td>0.998952</td>\n",
       "      <td>1.210399</td>\n",
       "      <td>1.211174</td>\n",
       "      <td>1.211547</td>\n",
       "      <td>1.213490</td>\n",
       "    </tr>\n",
       "    <tr>\n",
       "      <th>4</th>\n",
       "      <td>1.21164</td>\n",
       "      <td>1.000058</td>\n",
       "      <td>1.210571</td>\n",
       "      <td>1.211066</td>\n",
       "      <td>1.211629</td>\n",
       "      <td>1.213502</td>\n",
       "    </tr>\n",
       "  </tbody>\n",
       "</table>\n",
       "</div>"
      ],
      "text/plain": [
       "     close    close%       mm7      mm14      mm21     mm200\n",
       "0  1.20996  1.000008  1.210537  1.211562  1.211511  1.213447\n",
       "1  1.21055  0.999513  1.210317  1.211447  1.211496  1.213462\n",
       "2  1.21044  1.000091  1.210273  1.211299  1.211475  1.213475\n",
       "3  1.21171  0.998952  1.210399  1.211174  1.211547  1.213490\n",
       "4  1.21164  1.000058  1.210571  1.211066  1.211629  1.213502"
      ]
     },
     "metadata": {},
     "output_type": "display_data"
    },
    {
     "data": {
      "text/html": [
       "<div>\n",
       "<style scoped>\n",
       "    .dataframe tbody tr th:only-of-type {\n",
       "        vertical-align: middle;\n",
       "    }\n",
       "\n",
       "    .dataframe tbody tr th {\n",
       "        vertical-align: top;\n",
       "    }\n",
       "\n",
       "    .dataframe thead th {\n",
       "        text-align: right;\n",
       "    }\n",
       "</style>\n",
       "<table border=\"1\" class=\"dataframe\">\n",
       "  <thead>\n",
       "    <tr style=\"text-align: right;\">\n",
       "      <th></th>\n",
       "      <th>target</th>\n",
       "    </tr>\n",
       "  </thead>\n",
       "  <tbody>\n",
       "    <tr>\n",
       "      <th>0</th>\n",
       "      <td>1.21055</td>\n",
       "    </tr>\n",
       "    <tr>\n",
       "      <th>1</th>\n",
       "      <td>1.21044</td>\n",
       "    </tr>\n",
       "    <tr>\n",
       "      <th>2</th>\n",
       "      <td>1.21171</td>\n",
       "    </tr>\n",
       "    <tr>\n",
       "      <th>3</th>\n",
       "      <td>1.21164</td>\n",
       "    </tr>\n",
       "    <tr>\n",
       "      <th>4</th>\n",
       "      <td>1.21343</td>\n",
       "    </tr>\n",
       "  </tbody>\n",
       "</table>\n",
       "</div>"
      ],
      "text/plain": [
       "    target\n",
       "0  1.21055\n",
       "1  1.21044\n",
       "2  1.21171\n",
       "3  1.21164\n",
       "4  1.21343"
      ]
     },
     "metadata": {},
     "output_type": "display_data"
    }
   ],
   "source": [
    "display(X.head())\n",
    "display(y.head())"
   ]
  },
  {
   "cell_type": "markdown",
   "id": "1fb94ba7",
   "metadata": {},
   "source": [
    "## Transformando dados"
   ]
  },
  {
   "cell_type": "code",
   "execution_count": 28,
   "id": "c4550aa8",
   "metadata": {},
   "outputs": [],
   "source": [
    "## Quantos dados a lstm ira utilizar do passado para prever o próximo preço\n",
    "step = 15"
   ]
  },
  {
   "cell_type": "code",
   "execution_count": 29,
   "id": "4a4b004c",
   "metadata": {},
   "outputs": [],
   "source": [
    "X_lstm, y_lstm = td.transform_lstm_data(X, y, step)"
   ]
  },
  {
   "cell_type": "code",
   "execution_count": 30,
   "id": "aaaa88e1",
   "metadata": {},
   "outputs": [
    {
     "data": {
      "text/plain": [
       "((15785, 15, 6), (15785,))"
      ]
     },
     "execution_count": 30,
     "metadata": {},
     "output_type": "execute_result"
    }
   ],
   "source": [
    "X_lstm.shape, y_lstm.shape"
   ]
  },
  {
   "cell_type": "markdown",
   "id": "dd931697",
   "metadata": {},
   "source": [
    "## Criando rede LSTM"
   ]
  },
  {
   "cell_type": "code",
   "execution_count": 31,
   "id": "1373247c",
   "metadata": {},
   "outputs": [],
   "source": [
    "model = Sequential()\n",
    "model.add(LSTM(50, return_sequences=True, input_shape=[step, X_lstm.shape[2]], activation=nn.relu))\n",
    "model.add(LSTM(50, return_sequences=True, activation=nn.relu))\n",
    "model.add(LSTM(50, return_sequences=False, activation=nn.relu))\n",
    "model.add(Dense(1))\n",
    "\n",
    "model.compile(loss='mae', optimizer=optimizers.Adam(1e-3))"
   ]
  },
  {
   "cell_type": "code",
   "execution_count": 32,
   "id": "0196bd24",
   "metadata": {},
   "outputs": [
    {
     "name": "stdout",
     "output_type": "stream",
     "text": [
      "Model: \"sequential_1\"\n",
      "_________________________________________________________________\n",
      " Layer (type)                Output Shape              Param #   \n",
      "=================================================================\n",
      " lstm_3 (LSTM)               (None, 15, 50)            11400     \n",
      "                                                                 \n",
      " lstm_4 (LSTM)               (None, 15, 50)            20200     \n",
      "                                                                 \n",
      " lstm_5 (LSTM)               (None, 50)                20200     \n",
      "                                                                 \n",
      " dense_1 (Dense)             (None, 1)                 51        \n",
      "                                                                 \n",
      "=================================================================\n",
      "Total params: 51851 (202.54 KB)\n",
      "Trainable params: 51851 (202.54 KB)\n",
      "Non-trainable params: 0 (0.00 Byte)\n",
      "_________________________________________________________________\n"
     ]
    }
   ],
   "source": [
    "model.summary()"
   ]
  },
  {
   "cell_type": "markdown",
   "id": "f79f1404",
   "metadata": {},
   "source": [
    "## Dividindo dados em treino e teste"
   ]
  },
  {
   "cell_type": "code",
   "execution_count": 33,
   "id": "b6d237ef",
   "metadata": {},
   "outputs": [],
   "source": [
    "X_train, X_test, y_train, y_test = train_test_split(X_lstm, y_lstm, shuffle=True, test_size=0.2)"
   ]
  },
  {
   "cell_type": "markdown",
   "id": "1e2f2085",
   "metadata": {},
   "source": [
    "## Treinando rede"
   ]
  },
  {
   "cell_type": "code",
   "execution_count": 34,
   "id": "30da225d",
   "metadata": {},
   "outputs": [
    {
     "name": "stdout",
     "output_type": "stream",
     "text": [
      "Epoch 1/20\n",
      "11/11 [==============================] - 7s 229ms/step - loss: 0.8941 - val_loss: 0.3229\n",
      "Epoch 2/20\n",
      "11/11 [==============================] - 2s 157ms/step - loss: 0.2104 - val_loss: 0.2043\n",
      "Epoch 3/20\n",
      "11/11 [==============================] - 2s 182ms/step - loss: 0.0890 - val_loss: 0.0481\n",
      "Epoch 4/20\n",
      "11/11 [==============================] - 2s 161ms/step - loss: 0.0274 - val_loss: 0.0220\n",
      "Epoch 5/20\n",
      "11/11 [==============================] - 2s 163ms/step - loss: 0.0157 - val_loss: 0.0097\n",
      "Epoch 6/20\n",
      "11/11 [==============================] - 2s 163ms/step - loss: 0.0135 - val_loss: 0.0124\n",
      "Epoch 7/20\n",
      "11/11 [==============================] - 2s 163ms/step - loss: 0.0086 - val_loss: 0.0108\n",
      "Epoch 8/20\n",
      "11/11 [==============================] - 2s 166ms/step - loss: 0.0085 - val_loss: 0.0110\n",
      "Epoch 9/20\n",
      "11/11 [==============================] - 2s 169ms/step - loss: 0.0097 - val_loss: 0.0299\n",
      "Epoch 10/20\n",
      "11/11 [==============================] - 2s 162ms/step - loss: 0.0197 - val_loss: 0.0327\n",
      "Epoch 11/20\n",
      "11/11 [==============================] - 2s 174ms/step - loss: 0.0263 - val_loss: 0.0356\n",
      "Epoch 12/20\n",
      "11/11 [==============================] - 2s 164ms/step - loss: 0.0419 - val_loss: 0.0457\n",
      "Epoch 13/20\n",
      "11/11 [==============================] - 2s 167ms/step - loss: 0.0561 - val_loss: 0.0365\n",
      "Epoch 14/20\n",
      "11/11 [==============================] - 2s 166ms/step - loss: 0.0262 - val_loss: 0.0220\n",
      "Epoch 15/20\n",
      "11/11 [==============================] - 2s 182ms/step - loss: 0.0150 - val_loss: 0.0079\n",
      "Epoch 16/20\n",
      "11/11 [==============================] - 2s 178ms/step - loss: 0.0132 - val_loss: 0.0076\n",
      "Epoch 17/20\n",
      "11/11 [==============================] - 2s 165ms/step - loss: 0.0117 - val_loss: 0.0187\n",
      "Epoch 18/20\n",
      "11/11 [==============================] - 2s 200ms/step - loss: 0.0127 - val_loss: 0.0193\n",
      "Epoch 19/20\n",
      "11/11 [==============================] - 2s 183ms/step - loss: 0.0137 - val_loss: 0.0129\n",
      "Epoch 20/20\n",
      "11/11 [==============================] - 2s 177ms/step - loss: 0.0073 - val_loss: 0.0034\n"
     ]
    }
   ],
   "source": [
    "hist = model.fit(X_train, y_train, batch_size=1000, epochs=20, validation_split=0.2)"
   ]
  },
  {
   "cell_type": "code",
   "execution_count": 35,
   "id": "b0705ccd",
   "metadata": {},
   "outputs": [
    {
     "data": {
      "text/plain": [
       "[<matplotlib.lines.Line2D at 0x23fb0295460>]"
      ]
     },
     "execution_count": 35,
     "metadata": {},
     "output_type": "execute_result"
    },
    {
     "data": {
      "image/png": "[encoded data removed]",
      "text/plain": [
       "<Figure size 640x480 with 1 Axes>"
      ]
     },
     "metadata": {},
     "output_type": "display_data"
    }
   ],
   "source": [
    "plt.plot(hist.history['loss'])\n",
    "plt.plot(hist.history['val_loss'])"
   ]
  },
  {
   "cell_type": "code",
   "execution_count": 36,
   "id": "642aa48e",
   "metadata": {},
   "outputs": [
    {
     "name": "stdout",
     "output_type": "stream",
     "text": [
      "99/99 [==============================] - 1s 8ms/step\n"
     ]
    }
   ],
   "source": [
    "ypredLSTM = model.predict(X_test)"
   ]
  },
  {
   "cell_type": "code",
   "execution_count": 37,
   "id": "666da7cb",
   "metadata": {},
   "outputs": [
    {
     "data": {
      "image/png": "[encoded data removed]",
      "text/plain": [
       "<Figure size 640x480 with 1 Axes>"
      ]
     },
     "metadata": {},
     "output_type": "display_data"
    }
   ],
   "source": [
    "plt.plot(y_test, y_test, color='red')\n",
    "plt.scatter(y_test, ypredLSTM)\n",
    "plt.xlabel('y_true')\n",
    "plt.ylabel('ypred')\n",
    "plt.title('y_true X ypred');"
   ]
  },
  {
   "cell_type": "markdown",
   "id": "18c00d4f",
   "metadata": {},
   "source": [
    "## Métricas"
   ]
  },
  {
   "cell_type": "code",
   "execution_count": 38,
   "id": "de91fa02",
   "metadata": {},
   "outputs": [
    {
     "name": "stdout",
     "output_type": "stream",
     "text": [
      "\n",
      "MSE:    2.3818940588680464e-05\n",
      "MAE:    0.003607214888106579\n",
      "MAPE:   0.33%\n",
      "R2:     0.9946867684871822\n",
      "ADJ_R2: 0.9946613948887446\n",
      "\n"
     ]
    }
   ],
   "source": [
    "k = X_test.shape[1]\n",
    "n = len(X_test)\n",
    "\n",
    "MSE = mean_squared_error(y_test, ypredLSTM)\n",
    "MAE= mean_absolute_error(y_test, ypredLSTM)\n",
    "MAPE = mean_absolute_percentage_error(y_test, ypredLSTM)\n",
    "R2_Score = r2_score(y_test, ypredLSTM)\n",
    "adj_r2 = 1 - (((1 - R2_Score) * (n - 1)) / (n - k - 1))\n",
    "\n",
    "print(f'''\n",
    "MSE:    {MSE}\n",
    "MAE:    {MAE}\n",
    "MAPE:   {MAPE*100:.2f}%\n",
    "R2:     {R2_Score}\n",
    "ADJ_R2: {adj_r2}\n",
    "''')"
   ]
  },
  {
   "cell_type": "markdown",
   "id": "1d30323f",
   "metadata": {},
   "source": [
    "## Salvando modelo"
   ]
  },
  {
   "cell_type": "markdown",
   "id": "3cc4ef30",
   "metadata": {},
   "source": [
    "model_filename = 'models/LSTMModel.pkl'\n",
    "with open(model_filename, 'wb') as file:\n",
    "    pickle.dump(model, file)"
   ]
  }
 ],
 "metadata": {
  "kernelspec": {
   "display_name": "Python 3 (ipykernel)",
   "language": "python",
   "name": "python3"
  },
  "language_info": {
   "codemirror_mode": {
    "name": "ipython",
    "version": 3
   },
   "file_extension": ".py",
   "mimetype": "text/x-python",
   "name": "python",
   "nbconvert_exporter": "python",
   "pygments_lexer": "ipython3",
   "version": "3.9.17"
  }
 },
 "nbformat": 4,
 "nbformat_minor": 5
}
