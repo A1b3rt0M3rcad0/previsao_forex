{
 "cells": [
  {
   "cell_type": "markdown",
   "id": "c4024cfc",
   "metadata": {},
   "source": [
    "## Importando bibliotecas"
   ]
  },
  {
   "cell_type": "code",
   "execution_count": 1,
   "id": "7dedd6bc",
   "metadata": {},
   "outputs": [],
   "source": [
    "import pandas as pd\n",
    "import MetaTrader5 as mt5\n",
    "import numpy as np\n",
    "import config\n",
    "import transform_data as td"
   ]
  },
  {
   "cell_type": "markdown",
   "id": "3b4e5bfa",
   "metadata": {},
   "source": [
    "## Iniciando Sofware"
   ]
  },
  {
   "cell_type": "code",
   "execution_count": 2,
   "id": "76677d4f",
   "metadata": {},
   "outputs": [],
   "source": [
    "## É preciso ter o me5 instalado para coletar os dados"
   ]
  },
  {
   "cell_type": "code",
   "execution_count": 3,
   "id": "834c8d1d",
   "metadata": {},
   "outputs": [],
   "source": [
    "if mt5.initialize():\n",
    "    mt5.login(login=config.USERNAME, password=config.PASSWORD)\n",
    "else:\n",
    "    print(\"initialize() failed, error code =\",mt5.last_error())\n",
    "    mt5.shutdown()"
   ]
  },
  {
   "cell_type": "markdown",
   "id": "13400a09",
   "metadata": {},
   "source": [
    "## Coletando dados"
   ]
  },
  {
   "cell_type": "code",
   "execution_count": 4,
   "id": "dd93c6a9",
   "metadata": {},
   "outputs": [],
   "source": [
    "data = mt5.copy_rates_from_pos(config.SYMBOL, config.TIMEFRAME, 0, config.CANDLES)\n",
    "df = pd.DataFrame(data)"
   ]
  },
  {
   "cell_type": "code",
   "execution_count": 5,
   "id": "46c5d072",
   "metadata": {},
   "outputs": [
    {
     "data": {
      "text/html": [
       "<div>\n",
       "<style scoped>\n",
       "    .dataframe tbody tr th:only-of-type {\n",
       "        vertical-align: middle;\n",
       "    }\n",
       "\n",
       "    .dataframe tbody tr th {\n",
       "        vertical-align: top;\n",
       "    }\n",
       "\n",
       "    .dataframe thead th {\n",
       "        text-align: right;\n",
       "    }\n",
       "</style>\n",
       "<table border=\"1\" class=\"dataframe\">\n",
       "  <thead>\n",
       "    <tr style=\"text-align: right;\">\n",
       "      <th></th>\n",
       "      <th>time</th>\n",
       "      <th>open</th>\n",
       "      <th>high</th>\n",
       "      <th>low</th>\n",
       "      <th>close</th>\n",
       "      <th>tick_volume</th>\n",
       "      <th>spread</th>\n",
       "      <th>real_volume</th>\n",
       "    </tr>\n",
       "  </thead>\n",
       "  <tbody>\n",
       "    <tr>\n",
       "      <th>0</th>\n",
       "      <td>1611014400</td>\n",
       "      <td>1.20768</td>\n",
       "      <td>1.20785</td>\n",
       "      <td>1.20745</td>\n",
       "      <td>1.20763</td>\n",
       "      <td>341</td>\n",
       "      <td>1</td>\n",
       "      <td>0</td>\n",
       "    </tr>\n",
       "    <tr>\n",
       "      <th>1</th>\n",
       "      <td>1611018000</td>\n",
       "      <td>1.20769</td>\n",
       "      <td>1.20780</td>\n",
       "      <td>1.20739</td>\n",
       "      <td>1.20777</td>\n",
       "      <td>612</td>\n",
       "      <td>0</td>\n",
       "      <td>0</td>\n",
       "    </tr>\n",
       "    <tr>\n",
       "      <th>2</th>\n",
       "      <td>1611021600</td>\n",
       "      <td>1.20777</td>\n",
       "      <td>1.20928</td>\n",
       "      <td>1.20774</td>\n",
       "      <td>1.20864</td>\n",
       "      <td>2096</td>\n",
       "      <td>0</td>\n",
       "      <td>0</td>\n",
       "    </tr>\n",
       "    <tr>\n",
       "      <th>3</th>\n",
       "      <td>1611025200</td>\n",
       "      <td>1.20863</td>\n",
       "      <td>1.20968</td>\n",
       "      <td>1.20861</td>\n",
       "      <td>1.20932</td>\n",
       "      <td>3158</td>\n",
       "      <td>0</td>\n",
       "      <td>0</td>\n",
       "    </tr>\n",
       "    <tr>\n",
       "      <th>4</th>\n",
       "      <td>1611028800</td>\n",
       "      <td>1.20933</td>\n",
       "      <td>1.20978</td>\n",
       "      <td>1.20906</td>\n",
       "      <td>1.20944</td>\n",
       "      <td>2010</td>\n",
       "      <td>0</td>\n",
       "      <td>0</td>\n",
       "    </tr>\n",
       "  </tbody>\n",
       "</table>\n",
       "</div>"
      ],
      "text/plain": [
       "         time     open     high      low    close  tick_volume  spread  \\\n",
       "0  1611014400  1.20768  1.20785  1.20745  1.20763          341       1   \n",
       "1  1611018000  1.20769  1.20780  1.20739  1.20777          612       0   \n",
       "2  1611021600  1.20777  1.20928  1.20774  1.20864         2096       0   \n",
       "3  1611025200  1.20863  1.20968  1.20861  1.20932         3158       0   \n",
       "4  1611028800  1.20933  1.20978  1.20906  1.20944         2010       0   \n",
       "\n",
       "   real_volume  \n",
       "0            0  \n",
       "1            0  \n",
       "2            0  \n",
       "3            0  \n",
       "4            0  "
      ]
     },
     "execution_count": 5,
     "metadata": {},
     "output_type": "execute_result"
    }
   ],
   "source": [
    "df.head()"
   ]
  },
  {
   "cell_type": "markdown",
   "id": "83286422",
   "metadata": {},
   "source": [
    "## Feature Engineering"
   ]
  },
  {
   "cell_type": "code",
   "execution_count": 6,
   "id": "e1f3205c",
   "metadata": {},
   "outputs": [],
   "source": [
    "df = td.transform_data(df)"
   ]
  },
  {
   "cell_type": "code",
   "execution_count": 7,
   "id": "a2236e17",
   "metadata": {},
   "outputs": [
    {
     "data": {
      "text/html": [
       "<div>\n",
       "<style scoped>\n",
       "    .dataframe tbody tr th:only-of-type {\n",
       "        vertical-align: middle;\n",
       "    }\n",
       "\n",
       "    .dataframe tbody tr th {\n",
       "        vertical-align: top;\n",
       "    }\n",
       "\n",
       "    .dataframe thead th {\n",
       "        text-align: right;\n",
       "    }\n",
       "</style>\n",
       "<table border=\"1\" class=\"dataframe\">\n",
       "  <thead>\n",
       "    <tr style=\"text-align: right;\">\n",
       "      <th></th>\n",
       "      <th>close</th>\n",
       "      <th>close%</th>\n",
       "      <th>mm7</th>\n",
       "      <th>mm14</th>\n",
       "      <th>mm21</th>\n",
       "      <th>mm200</th>\n",
       "      <th>target</th>\n",
       "    </tr>\n",
       "    <tr>\n",
       "      <th>time</th>\n",
       "      <th></th>\n",
       "      <th></th>\n",
       "      <th></th>\n",
       "      <th></th>\n",
       "      <th></th>\n",
       "      <th></th>\n",
       "      <th></th>\n",
       "    </tr>\n",
       "  </thead>\n",
       "  <tbody>\n",
       "    <tr>\n",
       "      <th>2021-01-29 07:00:00</th>\n",
       "      <td>1.20996</td>\n",
       "      <td>0.999992</td>\n",
       "      <td>1.210537</td>\n",
       "      <td>1.211562</td>\n",
       "      <td>1.211511</td>\n",
       "      <td>1.213447</td>\n",
       "      <td>1.21055</td>\n",
       "    </tr>\n",
       "    <tr>\n",
       "      <th>2021-01-29 08:00:00</th>\n",
       "      <td>1.21055</td>\n",
       "      <td>1.000488</td>\n",
       "      <td>1.210317</td>\n",
       "      <td>1.211447</td>\n",
       "      <td>1.211496</td>\n",
       "      <td>1.213462</td>\n",
       "      <td>1.21044</td>\n",
       "    </tr>\n",
       "    <tr>\n",
       "      <th>2021-01-29 09:00:00</th>\n",
       "      <td>1.21044</td>\n",
       "      <td>0.999909</td>\n",
       "      <td>1.210273</td>\n",
       "      <td>1.211299</td>\n",
       "      <td>1.211475</td>\n",
       "      <td>1.213475</td>\n",
       "      <td>1.21171</td>\n",
       "    </tr>\n",
       "    <tr>\n",
       "      <th>2021-01-29 10:00:00</th>\n",
       "      <td>1.21171</td>\n",
       "      <td>1.001049</td>\n",
       "      <td>1.210399</td>\n",
       "      <td>1.211174</td>\n",
       "      <td>1.211547</td>\n",
       "      <td>1.213490</td>\n",
       "      <td>1.21164</td>\n",
       "    </tr>\n",
       "    <tr>\n",
       "      <th>2021-01-29 11:00:00</th>\n",
       "      <td>1.21164</td>\n",
       "      <td>0.999942</td>\n",
       "      <td>1.210571</td>\n",
       "      <td>1.211066</td>\n",
       "      <td>1.211629</td>\n",
       "      <td>1.213502</td>\n",
       "      <td>1.21343</td>\n",
       "    </tr>\n",
       "  </tbody>\n",
       "</table>\n",
       "</div>"
      ],
      "text/plain": [
       "                       close    close%       mm7      mm14      mm21  \\\n",
       "time                                                                   \n",
       "2021-01-29 07:00:00  1.20996  0.999992  1.210537  1.211562  1.211511   \n",
       "2021-01-29 08:00:00  1.21055  1.000488  1.210317  1.211447  1.211496   \n",
       "2021-01-29 09:00:00  1.21044  0.999909  1.210273  1.211299  1.211475   \n",
       "2021-01-29 10:00:00  1.21171  1.001049  1.210399  1.211174  1.211547   \n",
       "2021-01-29 11:00:00  1.21164  0.999942  1.210571  1.211066  1.211629   \n",
       "\n",
       "                        mm200   target  \n",
       "time                                    \n",
       "2021-01-29 07:00:00  1.213447  1.21055  \n",
       "2021-01-29 08:00:00  1.213462  1.21044  \n",
       "2021-01-29 09:00:00  1.213475  1.21171  \n",
       "2021-01-29 10:00:00  1.213490  1.21164  \n",
       "2021-01-29 11:00:00  1.213502  1.21343  "
      ]
     },
     "execution_count": 7,
     "metadata": {},
     "output_type": "execute_result"
    }
   ],
   "source": [
    "df.head()"
   ]
  },
  {
   "cell_type": "markdown",
   "id": "bf3fa894",
   "metadata": {},
   "source": [
    "## Salvando dados"
   ]
  },
  {
   "cell_type": "code",
   "execution_count": 8,
   "id": "94a1e9d9",
   "metadata": {},
   "outputs": [],
   "source": [
    "## Salvando arquivo principal\n",
    "df.to_csv(f'datasets/dataset_{config.SYMBOL}.csv', index=False)\n",
    "\n",
    "## Criando X e salvando\n",
    "X = df.drop(columns=['target'])\n",
    "X.to_csv(f'datasets/X_{config.SYMBOL}.csv', index=False)\n",
    "\n",
    "## Criando y e salvando\n",
    "y = df[['target']]\n",
    "y.to_csv(f'datasets/y_{config.SYMBOL}.csv', index=False)"
   ]
  }
 ],
 "metadata": {
  "kernelspec": {
   "display_name": "Python 3 (ipykernel)",
   "language": "python",
   "name": "python3"
  },
  "language_info": {
   "codemirror_mode": {
    "name": "ipython",
    "version": 3
   },
   "file_extension": ".py",
   "mimetype": "text/x-python",
   "name": "python",
   "nbconvert_exporter": "python",
   "pygments_lexer": "ipython3",
   "version": "3.9.17"
  }
 },
 "nbformat": 4,
 "nbformat_minor": 5
}
