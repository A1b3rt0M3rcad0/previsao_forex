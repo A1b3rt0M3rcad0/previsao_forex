{
 "cells": [
  {
   "cell_type": "markdown",
   "id": "57b9c1d3",
   "metadata": {},
   "source": [
    "## Importando libs"
   ]
  },
  {
   "cell_type": "code",
   "execution_count": 30,
   "id": "61974f8b",
   "metadata": {},
   "outputs": [],
   "source": [
    "import pandas as pd\n",
    "import numpy as np\n",
    "import matplotlib.pyplot as plt\n",
    "from tensorflow.keras.layers import Dense, Dropout, LSTM\n",
    "from tensorflow.keras import Sequential\n",
    "from tensorflow.keras import optimizers\n",
    "from tensorflow import nn\n",
    "from sklearn.metrics import mean_absolute_error, mean_squared_error, r2_score, mean_absolute_percentage_error\n",
    "from sklearn.model_selection import train_test_split\n",
    "import random\n",
    "import pickle\n",
    "import config\n",
    "import transform_data as td"
   ]
  },
  {
   "cell_type": "markdown",
   "id": "e5a99217",
   "metadata": {},
   "source": [
    "## Importando dados"
   ]
  },
  {
   "cell_type": "code",
   "execution_count": 31,
   "id": "c947f041",
   "metadata": {},
   "outputs": [],
   "source": [
    "X = pd.read_csv(f'datasets/X_{config.SYMBOL}.csv')\n",
    "y = pd.read_csv(f'datasets/y_{config.SYMBOL}.csv')"
   ]
  },
  {
   "cell_type": "code",
   "execution_count": 32,
   "id": "8b9935f8",
   "metadata": {},
   "outputs": [
    {
     "data": {
      "text/html": [
       "<div>\n",
       "<style scoped>\n",
       "    .dataframe tbody tr th:only-of-type {\n",
       "        vertical-align: middle;\n",
       "    }\n",
       "\n",
       "    .dataframe tbody tr th {\n",
       "        vertical-align: top;\n",
       "    }\n",
       "\n",
       "    .dataframe thead th {\n",
       "        text-align: right;\n",
       "    }\n",
       "</style>\n",
       "<table border=\"1\" class=\"dataframe\">\n",
       "  <thead>\n",
       "    <tr style=\"text-align: right;\">\n",
       "      <th></th>\n",
       "      <th>close</th>\n",
       "      <th>close%</th>\n",
       "      <th>mm7</th>\n",
       "      <th>mm14</th>\n",
       "      <th>mm21</th>\n",
       "      <th>mm200</th>\n",
       "    </tr>\n",
       "  </thead>\n",
       "  <tbody>\n",
       "    <tr>\n",
       "      <th>0</th>\n",
       "      <td>1.20996</td>\n",
       "      <td>0.999992</td>\n",
       "      <td>1.210537</td>\n",
       "      <td>1.211562</td>\n",
       "      <td>1.211511</td>\n",
       "      <td>1.213447</td>\n",
       "    </tr>\n",
       "    <tr>\n",
       "      <th>1</th>\n",
       "      <td>1.21055</td>\n",
       "      <td>1.000488</td>\n",
       "      <td>1.210317</td>\n",
       "      <td>1.211447</td>\n",
       "      <td>1.211496</td>\n",
       "      <td>1.213462</td>\n",
       "    </tr>\n",
       "    <tr>\n",
       "      <th>2</th>\n",
       "      <td>1.21044</td>\n",
       "      <td>0.999909</td>\n",
       "      <td>1.210273</td>\n",
       "      <td>1.211299</td>\n",
       "      <td>1.211475</td>\n",
       "      <td>1.213475</td>\n",
       "    </tr>\n",
       "    <tr>\n",
       "      <th>3</th>\n",
       "      <td>1.21171</td>\n",
       "      <td>1.001049</td>\n",
       "      <td>1.210399</td>\n",
       "      <td>1.211174</td>\n",
       "      <td>1.211547</td>\n",
       "      <td>1.213490</td>\n",
       "    </tr>\n",
       "    <tr>\n",
       "      <th>4</th>\n",
       "      <td>1.21164</td>\n",
       "      <td>0.999942</td>\n",
       "      <td>1.210571</td>\n",
       "      <td>1.211066</td>\n",
       "      <td>1.211629</td>\n",
       "      <td>1.213502</td>\n",
       "    </tr>\n",
       "  </tbody>\n",
       "</table>\n",
       "</div>"
      ],
      "text/plain": [
       "     close    close%       mm7      mm14      mm21     mm200\n",
       "0  1.20996  0.999992  1.210537  1.211562  1.211511  1.213447\n",
       "1  1.21055  1.000488  1.210317  1.211447  1.211496  1.213462\n",
       "2  1.21044  0.999909  1.210273  1.211299  1.211475  1.213475\n",
       "3  1.21171  1.001049  1.210399  1.211174  1.211547  1.213490\n",
       "4  1.21164  0.999942  1.210571  1.211066  1.211629  1.213502"
      ]
     },
     "metadata": {},
     "output_type": "display_data"
    },
    {
     "data": {
      "text/html": [
       "<div>\n",
       "<style scoped>\n",
       "    .dataframe tbody tr th:only-of-type {\n",
       "        vertical-align: middle;\n",
       "    }\n",
       "\n",
       "    .dataframe tbody tr th {\n",
       "        vertical-align: top;\n",
       "    }\n",
       "\n",
       "    .dataframe thead th {\n",
       "        text-align: right;\n",
       "    }\n",
       "</style>\n",
       "<table border=\"1\" class=\"dataframe\">\n",
       "  <thead>\n",
       "    <tr style=\"text-align: right;\">\n",
       "      <th></th>\n",
       "      <th>target</th>\n",
       "    </tr>\n",
       "  </thead>\n",
       "  <tbody>\n",
       "    <tr>\n",
       "      <th>0</th>\n",
       "      <td>1.21055</td>\n",
       "    </tr>\n",
       "    <tr>\n",
       "      <th>1</th>\n",
       "      <td>1.21044</td>\n",
       "    </tr>\n",
       "    <tr>\n",
       "      <th>2</th>\n",
       "      <td>1.21171</td>\n",
       "    </tr>\n",
       "    <tr>\n",
       "      <th>3</th>\n",
       "      <td>1.21164</td>\n",
       "    </tr>\n",
       "    <tr>\n",
       "      <th>4</th>\n",
       "      <td>1.21343</td>\n",
       "    </tr>\n",
       "  </tbody>\n",
       "</table>\n",
       "</div>"
      ],
      "text/plain": [
       "    target\n",
       "0  1.21055\n",
       "1  1.21044\n",
       "2  1.21171\n",
       "3  1.21164\n",
       "4  1.21343"
      ]
     },
     "metadata": {},
     "output_type": "display_data"
    }
   ],
   "source": [
    "display(X.head())\n",
    "display(y.head())"
   ]
  },
  {
   "cell_type": "markdown",
   "id": "a0f7ce5d",
   "metadata": {},
   "source": [
    "## Transformando dados"
   ]
  },
  {
   "cell_type": "code",
   "execution_count": 33,
   "id": "ec960b3f",
   "metadata": {},
   "outputs": [],
   "source": [
    "## Quantos dados a lstm ira utilizar do passado para prever o próximo preço\n",
    "step = 15"
   ]
  },
  {
   "cell_type": "code",
   "execution_count": 34,
   "id": "7ae3dfad",
   "metadata": {},
   "outputs": [],
   "source": [
    "X_lstm, y_lstm = td.transform_lstm_data(X, y, step)"
   ]
  },
  {
   "cell_type": "code",
   "execution_count": 35,
   "id": "ee98ee6a",
   "metadata": {},
   "outputs": [
    {
     "data": {
      "text/plain": [
       "((15785, 15, 6), (15785,))"
      ]
     },
     "execution_count": 35,
     "metadata": {},
     "output_type": "execute_result"
    }
   ],
   "source": [
    "X_lstm.shape, y_lstm.shape"
   ]
  },
  {
   "cell_type": "markdown",
   "id": "55ac2c6d",
   "metadata": {},
   "source": [
    "## Criando rede LSTM"
   ]
  },
  {
   "cell_type": "code",
   "execution_count": 36,
   "id": "487a4d3a",
   "metadata": {},
   "outputs": [],
   "source": [
    "model = Sequential()\n",
    "model.add(LSTM(50, return_sequences=True, input_shape=[step, X_lstm.shape[2]], activation=nn.relu))\n",
    "model.add(LSTM(50, return_sequences=True, activation=nn.relu))\n",
    "model.add(LSTM(50, return_sequences=False, activation=nn.relu))\n",
    "model.add(Dense(1))\n",
    "\n",
    "model.compile(loss='mae', optimizer=optimizers.Adam(1e-3))"
   ]
  },
  {
   "cell_type": "code",
   "execution_count": 37,
   "id": "61a69a63",
   "metadata": {},
   "outputs": [
    {
     "name": "stdout",
     "output_type": "stream",
     "text": [
      "Model: \"sequential_2\"\n",
      "_________________________________________________________________\n",
      " Layer (type)                Output Shape              Param #   \n",
      "=================================================================\n",
      " lstm_6 (LSTM)               (None, 15, 50)            11400     \n",
      "                                                                 \n",
      " lstm_7 (LSTM)               (None, 15, 50)            20200     \n",
      "                                                                 \n",
      " lstm_8 (LSTM)               (None, 50)                20200     \n",
      "                                                                 \n",
      " dense_2 (Dense)             (None, 1)                 51        \n",
      "                                                                 \n",
      "=================================================================\n",
      "Total params: 51851 (202.54 KB)\n",
      "Trainable params: 51851 (202.54 KB)\n",
      "Non-trainable params: 0 (0.00 Byte)\n",
      "_________________________________________________________________\n"
     ]
    }
   ],
   "source": [
    "model.summary()"
   ]
  },
  {
   "cell_type": "markdown",
   "id": "acc0cf5e",
   "metadata": {},
   "source": [
    "## Dividindo dados em treino e teste"
   ]
  },
  {
   "cell_type": "code",
   "execution_count": 38,
   "id": "62f292d6",
   "metadata": {},
   "outputs": [],
   "source": [
    "X_train, X_test, y_train, y_test = train_test_split(X_lstm, y_lstm, shuffle=True, test_size=0.2)"
   ]
  },
  {
   "cell_type": "markdown",
   "id": "0dc24184",
   "metadata": {},
   "source": [
    "## Treinando rede"
   ]
  },
  {
   "cell_type": "code",
   "execution_count": 39,
   "id": "aefef472",
   "metadata": {},
   "outputs": [
    {
     "name": "stdout",
     "output_type": "stream",
     "text": [
      "Epoch 1/20\n",
      "11/11 [==============================] - 6s 213ms/step - loss: 1.0466 - val_loss: 0.8614\n",
      "Epoch 2/20\n",
      "11/11 [==============================] - 2s 161ms/step - loss: 0.4636 - val_loss: 0.0612\n",
      "Epoch 3/20\n",
      "11/11 [==============================] - 2s 177ms/step - loss: 0.0737 - val_loss: 0.0476\n",
      "Epoch 4/20\n",
      "11/11 [==============================] - 2s 193ms/step - loss: 0.0385 - val_loss: 0.0203\n",
      "Epoch 5/20\n",
      "11/11 [==============================] - 2s 195ms/step - loss: 0.0253 - val_loss: 0.0223\n",
      "Epoch 6/20\n",
      "11/11 [==============================] - 2s 187ms/step - loss: 0.0186 - val_loss: 0.0174\n",
      "Epoch 7/20\n",
      "11/11 [==============================] - 2s 193ms/step - loss: 0.0148 - val_loss: 0.0102\n",
      "Epoch 8/20\n",
      "11/11 [==============================] - 2s 187ms/step - loss: 0.0097 - val_loss: 0.0084\n",
      "Epoch 9/20\n",
      "11/11 [==============================] - 2s 190ms/step - loss: 0.0074 - val_loss: 0.0103\n",
      "Epoch 10/20\n",
      "11/11 [==============================] - 2s 199ms/step - loss: 0.0082 - val_loss: 0.0068\n",
      "Epoch 11/20\n",
      "11/11 [==============================] - 2s 197ms/step - loss: 0.0077 - val_loss: 0.0082\n",
      "Epoch 12/20\n",
      "11/11 [==============================] - 2s 179ms/step - loss: 0.0075 - val_loss: 0.0082\n",
      "Epoch 13/20\n",
      "11/11 [==============================] - 2s 179ms/step - loss: 0.0073 - val_loss: 0.0077\n",
      "Epoch 14/20\n",
      "11/11 [==============================] - 2s 182ms/step - loss: 0.0069 - val_loss: 0.0065\n",
      "Epoch 15/20\n",
      "11/11 [==============================] - 2s 197ms/step - loss: 0.0069 - val_loss: 0.0077\n",
      "Epoch 16/20\n",
      "11/11 [==============================] - 2s 173ms/step - loss: 0.0069 - val_loss: 0.0088\n",
      "Epoch 17/20\n",
      "11/11 [==============================] - 2s 175ms/step - loss: 0.0067 - val_loss: 0.0048\n",
      "Epoch 18/20\n",
      "11/11 [==============================] - 2s 180ms/step - loss: 0.0066 - val_loss: 0.0073\n",
      "Epoch 19/20\n",
      "11/11 [==============================] - 2s 191ms/step - loss: 0.0067 - val_loss: 0.0069\n",
      "Epoch 20/20\n",
      "11/11 [==============================] - 2s 186ms/step - loss: 0.0068 - val_loss: 0.0051\n"
     ]
    }
   ],
   "source": [
    "hist = model.fit(X_train, y_train, batch_size=1000, epochs=20, validation_split=0.2)"
   ]
  },
  {
   "cell_type": "markdown",
   "id": "dd9ab2de",
   "metadata": {},
   "source": [
    "## Avaliando épocas"
   ]
  },
  {
   "cell_type": "code",
   "execution_count": 40,
   "id": "bf78c572",
   "metadata": {},
   "outputs": [
    {
     "data": {
      "text/plain": [
       "[<matplotlib.lines.Line2D at 0x2782fdad610>]"
      ]
     },
     "execution_count": 40,
     "metadata": {},
     "output_type": "execute_result"
    },
    {
     "data": {
      "image/png": "[encoded data removed]",
      "text/plain": [
       "<Figure size 640x480 with 1 Axes>"
      ]
     },
     "metadata": {},
     "output_type": "display_data"
    }
   ],
   "source": [
    "plt.plot(hist.history['loss'])\n",
    "plt.plot(hist.history['val_loss'])"
   ]
  },
  {
   "cell_type": "markdown",
   "id": "82e50a62",
   "metadata": {},
   "source": [
    "## Avaliando previsões graficamente"
   ]
  },
  {
   "cell_type": "code",
   "execution_count": 41,
   "id": "203ebc02",
   "metadata": {},
   "outputs": [
    {
     "name": "stdout",
     "output_type": "stream",
     "text": [
      "99/99 [==============================] - 1s 8ms/step\n"
     ]
    }
   ],
   "source": [
    "ypredLSTM = model.predict(X_test)"
   ]
  },
  {
   "cell_type": "code",
   "execution_count": 42,
   "id": "ef7b1129",
   "metadata": {},
   "outputs": [
    {
     "data": {
      "image/png": "[encoded data removed]",
      "text/plain": [
       "<Figure size 640x480 with 1 Axes>"
      ]
     },
     "metadata": {},
     "output_type": "display_data"
    }
   ],
   "source": [
    "plt.plot(y_test, y_test, color='red')\n",
    "plt.scatter(y_test, ypredLSTM)\n",
    "plt.xlabel('y_true')\n",
    "plt.ylabel('ypred')\n",
    "plt.title('y_true X ypred');"
   ]
  },
  {
   "cell_type": "markdown",
   "id": "336e5bea",
   "metadata": {},
   "source": [
    "## Métricas"
   ]
  },
  {
   "cell_type": "code",
   "execution_count": 43,
   "id": "4fc1bcfa",
   "metadata": {},
   "outputs": [
    {
     "name": "stdout",
     "output_type": "stream",
     "text": [
      "\n",
      "MSE:    3.62501329660155e-05\n",
      "MAE:    0.005092870410113232\n",
      "MAPE:   0.46%\n",
      "R2:     0.9917257981497314\n",
      "ADJ_R2: 0.9916862842918027\n",
      "\n"
     ]
    }
   ],
   "source": [
    "k = X_test.shape[1]\n",
    "n = len(X_test)\n",
    "\n",
    "MSE = mean_squared_error(y_test, ypredLSTM)\n",
    "MAE= mean_absolute_error(y_test, ypredLSTM)\n",
    "MAPE = mean_absolute_percentage_error(y_test, ypredLSTM)\n",
    "R2_Score = r2_score(y_test, ypredLSTM)\n",
    "adj_r2 = 1 - (((1 - R2_Score) * (n - 1)) / (n - k - 1))\n",
    "\n",
    "print(f'''\n",
    "MSE:    {MSE}\n",
    "MAE:    {MAE}\n",
    "MAPE:   {MAPE*100:.2f}%\n",
    "R2:     {R2_Score}\n",
    "ADJ_R2: {adj_r2}\n",
    "''')"
   ]
  },
  {
   "cell_type": "markdown",
   "id": "93dbe21b",
   "metadata": {},
   "source": [
    "## Salvando modelo"
   ]
  },
  {
   "cell_type": "markdown",
   "id": "03e02864",
   "metadata": {},
   "source": [
    "model_filename = 'models/LSTMModel.pkl'\n",
    "with open(model_filename, 'wb') as file:\n",
    "    pickle.dump(model, file)"
   ]
  }
 ],
 "metadata": {
  "kernelspec": {
   "display_name": "Python 3 (ipykernel)",
   "language": "python",
   "name": "python3"
  },
  "language_info": {
   "codemirror_mode": {
    "name": "ipython",
    "version": 3
   },
   "file_extension": ".py",
   "mimetype": "text/x-python",
   "name": "python",
   "nbconvert_exporter": "python",
   "pygments_lexer": "ipython3",
   "version": "3.9.17"
  }
 },
 "nbformat": 4,
 "nbformat_minor": 5
}
