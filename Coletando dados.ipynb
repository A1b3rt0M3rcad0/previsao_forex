{
 "cells": [
  {
   "cell_type": "markdown",
   "id": "f76c5124",
   "metadata": {},
   "source": [
    "## Importando bibliotecas"
   ]
  },
  {
   "cell_type": "code",
   "execution_count": 9,
   "id": "a8f5a987",
   "metadata": {},
   "outputs": [],
   "source": [
    "import pandas as pd\n",
    "import MetaTrader5 as mt5\n",
    "import numpy as np\n",
    "import config\n",
    "import transform_data as td"
   ]
  },
  {
   "cell_type": "markdown",
   "id": "d3015bc5",
   "metadata": {},
   "source": [
    "## Iniciando Sofware"
   ]
  },
  {
   "cell_type": "code",
   "execution_count": 10,
   "id": "065de0be",
   "metadata": {},
   "outputs": [],
   "source": [
    "## É preciso ter o me5 instalado para coletar os dados"
   ]
  },
  {
   "cell_type": "code",
   "execution_count": 11,
   "id": "5d9deaa5",
   "metadata": {},
   "outputs": [],
   "source": [
    "if mt5.initialize():\n",
    "    mt5.login(login=config.USERNAME, password=config.PASSWORD)\n",
    "else:\n",
    "    print(\"initialize() failed, error code =\",mt5.last_error())\n",
    "    mt5.shutdown()"
   ]
  },
  {
   "cell_type": "markdown",
   "id": "1cae6082",
   "metadata": {},
   "source": [
    "## Coletando dados"
   ]
  },
  {
   "cell_type": "code",
   "execution_count": 12,
   "id": "ec57dcd1",
   "metadata": {},
   "outputs": [],
   "source": [
    "data = mt5.copy_rates_from_pos(config.SYMBOL, config.TIMEFRAME, 0, 7200)\n",
    "df = pd.DataFrame(data)"
   ]
  },
  {
   "cell_type": "code",
   "execution_count": 13,
   "id": "54d322f2",
   "metadata": {},
   "outputs": [
    {
     "data": {
      "text/html": [
       "<div>\n",
       "<style scoped>\n",
       "    .dataframe tbody tr th:only-of-type {\n",
       "        vertical-align: middle;\n",
       "    }\n",
       "\n",
       "    .dataframe tbody tr th {\n",
       "        vertical-align: top;\n",
       "    }\n",
       "\n",
       "    .dataframe thead th {\n",
       "        text-align: right;\n",
       "    }\n",
       "</style>\n",
       "<table border=\"1\" class=\"dataframe\">\n",
       "  <thead>\n",
       "    <tr style=\"text-align: right;\">\n",
       "      <th></th>\n",
       "      <th>time</th>\n",
       "      <th>open</th>\n",
       "      <th>high</th>\n",
       "      <th>low</th>\n",
       "      <th>close</th>\n",
       "      <th>tick_volume</th>\n",
       "      <th>spread</th>\n",
       "      <th>real_volume</th>\n",
       "    </tr>\n",
       "  </thead>\n",
       "  <tbody>\n",
       "    <tr>\n",
       "      <th>0</th>\n",
       "      <td>1254268800</td>\n",
       "      <td>1.45838</td>\n",
       "      <td>1.46730</td>\n",
       "      <td>1.45762</td>\n",
       "      <td>1.46649</td>\n",
       "      <td>24689</td>\n",
       "      <td>9</td>\n",
       "      <td>0</td>\n",
       "    </tr>\n",
       "    <tr>\n",
       "      <th>1</th>\n",
       "      <td>1254312000</td>\n",
       "      <td>1.46651</td>\n",
       "      <td>1.46729</td>\n",
       "      <td>1.45752</td>\n",
       "      <td>1.46368</td>\n",
       "      <td>32549</td>\n",
       "      <td>8</td>\n",
       "      <td>0</td>\n",
       "    </tr>\n",
       "    <tr>\n",
       "      <th>2</th>\n",
       "      <td>1254355200</td>\n",
       "      <td>1.46367</td>\n",
       "      <td>1.46676</td>\n",
       "      <td>1.45507</td>\n",
       "      <td>1.45705</td>\n",
       "      <td>23171</td>\n",
       "      <td>9</td>\n",
       "      <td>0</td>\n",
       "    </tr>\n",
       "    <tr>\n",
       "      <th>3</th>\n",
       "      <td>1254398400</td>\n",
       "      <td>1.45704</td>\n",
       "      <td>1.45834</td>\n",
       "      <td>1.45170</td>\n",
       "      <td>1.45423</td>\n",
       "      <td>31494</td>\n",
       "      <td>9</td>\n",
       "      <td>0</td>\n",
       "    </tr>\n",
       "    <tr>\n",
       "      <th>4</th>\n",
       "      <td>1254441600</td>\n",
       "      <td>1.45416</td>\n",
       "      <td>1.45623</td>\n",
       "      <td>1.45019</td>\n",
       "      <td>1.45473</td>\n",
       "      <td>21289</td>\n",
       "      <td>9</td>\n",
       "      <td>0</td>\n",
       "    </tr>\n",
       "  </tbody>\n",
       "</table>\n",
       "</div>"
      ],
      "text/plain": [
       "         time     open     high      low    close  tick_volume  spread  \\\n",
       "0  1254268800  1.45838  1.46730  1.45762  1.46649        24689       9   \n",
       "1  1254312000  1.46651  1.46729  1.45752  1.46368        32549       8   \n",
       "2  1254355200  1.46367  1.46676  1.45507  1.45705        23171       9   \n",
       "3  1254398400  1.45704  1.45834  1.45170  1.45423        31494       9   \n",
       "4  1254441600  1.45416  1.45623  1.45019  1.45473        21289       9   \n",
       "\n",
       "   real_volume  \n",
       "0            0  \n",
       "1            0  \n",
       "2            0  \n",
       "3            0  \n",
       "4            0  "
      ]
     },
     "execution_count": 13,
     "metadata": {},
     "output_type": "execute_result"
    }
   ],
   "source": [
    "df.head()"
   ]
  },
  {
   "cell_type": "markdown",
   "id": "90f23305",
   "metadata": {},
   "source": [
    "## Feature Engeniring"
   ]
  },
  {
   "cell_type": "code",
   "execution_count": 14,
   "id": "47a67ddd",
   "metadata": {},
   "outputs": [],
   "source": [
    "df = td.transform_data(df)"
   ]
  },
  {
   "cell_type": "code",
   "execution_count": 15,
   "id": "e107a022",
   "metadata": {},
   "outputs": [
    {
     "data": {
      "text/html": [
       "<div>\n",
       "<style scoped>\n",
       "    .dataframe tbody tr th:only-of-type {\n",
       "        vertical-align: middle;\n",
       "    }\n",
       "\n",
       "    .dataframe tbody tr th {\n",
       "        vertical-align: top;\n",
       "    }\n",
       "\n",
       "    .dataframe thead th {\n",
       "        text-align: right;\n",
       "    }\n",
       "</style>\n",
       "<table border=\"1\" class=\"dataframe\">\n",
       "  <thead>\n",
       "    <tr style=\"text-align: right;\">\n",
       "      <th></th>\n",
       "      <th>close</th>\n",
       "      <th>close%</th>\n",
       "      <th>mm7</th>\n",
       "      <th>mm14</th>\n",
       "      <th>mm21</th>\n",
       "      <th>mm200</th>\n",
       "      <th>target</th>\n",
       "    </tr>\n",
       "    <tr>\n",
       "      <th>time</th>\n",
       "      <th></th>\n",
       "      <th></th>\n",
       "      <th></th>\n",
       "      <th></th>\n",
       "      <th></th>\n",
       "      <th></th>\n",
       "      <th></th>\n",
       "    </tr>\n",
       "  </thead>\n",
       "  <tbody>\n",
       "    <tr>\n",
       "      <th>2010-02-18 12:00:00</th>\n",
       "      <td>1.34923</td>\n",
       "      <td>1.006611</td>\n",
       "      <td>1.362887</td>\n",
       "      <td>1.365554</td>\n",
       "      <td>1.367251</td>\n",
       "      <td>1.452994</td>\n",
       "      <td>1.34933</td>\n",
       "    </tr>\n",
       "    <tr>\n",
       "      <th>2010-02-19 00:00:00</th>\n",
       "      <td>1.34933</td>\n",
       "      <td>0.999926</td>\n",
       "      <td>1.361401</td>\n",
       "      <td>1.363420</td>\n",
       "      <td>1.366137</td>\n",
       "      <td>1.452408</td>\n",
       "      <td>1.36116</td>\n",
       "    </tr>\n",
       "    <tr>\n",
       "      <th>2010-02-19 12:00:00</th>\n",
       "      <td>1.36116</td>\n",
       "      <td>0.991309</td>\n",
       "      <td>1.360936</td>\n",
       "      <td>1.362548</td>\n",
       "      <td>1.365793</td>\n",
       "      <td>1.451895</td>\n",
       "      <td>1.36064</td>\n",
       "    </tr>\n",
       "    <tr>\n",
       "      <th>2010-02-22 00:00:00</th>\n",
       "      <td>1.36064</td>\n",
       "      <td>1.000382</td>\n",
       "      <td>1.358760</td>\n",
       "      <td>1.361514</td>\n",
       "      <td>1.365454</td>\n",
       "      <td>1.451413</td>\n",
       "      <td>1.35996</td>\n",
       "    </tr>\n",
       "    <tr>\n",
       "      <th>2010-02-22 12:00:00</th>\n",
       "      <td>1.35996</td>\n",
       "      <td>1.000500</td>\n",
       "      <td>1.356914</td>\n",
       "      <td>1.360879</td>\n",
       "      <td>1.365008</td>\n",
       "      <td>1.450942</td>\n",
       "      <td>1.36003</td>\n",
       "    </tr>\n",
       "  </tbody>\n",
       "</table>\n",
       "</div>"
      ],
      "text/plain": [
       "                       close    close%       mm7      mm14      mm21  \\\n",
       "time                                                                   \n",
       "2010-02-18 12:00:00  1.34923  1.006611  1.362887  1.365554  1.367251   \n",
       "2010-02-19 00:00:00  1.34933  0.999926  1.361401  1.363420  1.366137   \n",
       "2010-02-19 12:00:00  1.36116  0.991309  1.360936  1.362548  1.365793   \n",
       "2010-02-22 00:00:00  1.36064  1.000382  1.358760  1.361514  1.365454   \n",
       "2010-02-22 12:00:00  1.35996  1.000500  1.356914  1.360879  1.365008   \n",
       "\n",
       "                        mm200   target  \n",
       "time                                    \n",
       "2010-02-18 12:00:00  1.452994  1.34933  \n",
       "2010-02-19 00:00:00  1.452408  1.36116  \n",
       "2010-02-19 12:00:00  1.451895  1.36064  \n",
       "2010-02-22 00:00:00  1.451413  1.35996  \n",
       "2010-02-22 12:00:00  1.450942  1.36003  "
      ]
     },
     "execution_count": 15,
     "metadata": {},
     "output_type": "execute_result"
    }
   ],
   "source": [
    "df.head()"
   ]
  },
  {
   "cell_type": "markdown",
   "id": "1ea26029",
   "metadata": {},
   "source": [
    "## Salvando dados"
   ]
  },
  {
   "cell_type": "code",
   "execution_count": 16,
   "id": "e1d178a7",
   "metadata": {},
   "outputs": [],
   "source": [
    "## Salvando arquivo principal\n",
    "df.to_csv(f'datasets/dataset_{config.SYMBOL}.csv')\n",
    "\n",
    "## Criando X e salvando\n",
    "X = df.drop(columns=['target'])\n",
    "X.to_csv(f'datasets/X_{config.SYMBOL}.csv')\n",
    "\n",
    "## Criando y e salvando\n",
    "y = df[['target']]\n",
    "y.to_csv(f'datasets/y_{config.SYMBOL}.csv')"
   ]
  }
 ],
 "metadata": {
  "kernelspec": {
   "display_name": "Python 3 (ipykernel)",
   "language": "python",
   "name": "python3"
  },
  "language_info": {
   "codemirror_mode": {
    "name": "ipython",
    "version": 3
   },
   "file_extension": ".py",
   "mimetype": "text/x-python",
   "name": "python",
   "nbconvert_exporter": "python",
   "pygments_lexer": "ipython3",
   "version": "3.9.17"
  }
 },
 "nbformat": 4,
 "nbformat_minor": 5
}
